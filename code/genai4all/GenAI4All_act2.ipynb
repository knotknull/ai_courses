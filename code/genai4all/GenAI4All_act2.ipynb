{
 "cells": [
  {
   "cell_type": "code",
   "execution_count": 1,
   "id": "39c35372-342e-47bb-ad6c-24f22fd17d57",
   "metadata": {},
   "outputs": [],
   "source": [
    "import os\n",
    "import openai \n",
    "import time\n",
    "\n",
    "from dotenv import load_dotenv, find_dotenv\n",
    "_ = load_dotenv(find_dotenv(\"/home/map/archive/ai/ai_courses/code/.env\")) # read local .env file\n"
   ]
  },
  {
   "cell_type": "code",
   "execution_count": 2,
   "id": "a23cebb4-21bd-4ccb-a81f-dd5b9021732c",
   "metadata": {},
   "outputs": [],
   "source": [
    "##client = OpenAI(\n",
    "##    # This is the default and can be omitted\n",
    "##    api_key=os.environ.get(\"OPENAI_API_KEY\"),\n",
    "##)\n",
    "openai.api_key = os.getenv(\"OPENAI_API_KEY\")\n",
    "\n"
   ]
  },
  {
   "cell_type": "code",
   "execution_count": 3,
   "id": "ba37e1a3-991e-4107-b5f4-91c3a2f7d13e",
   "metadata": {},
   "outputs": [],
   "source": [
    "def llm_response(prompt):\n",
    "    response = openai.ChatCompletion.create(\n",
    "        model='gpt-3.5-turbo',\n",
    "        messages=[{'role':'user','content':prompt}],\n",
    "        temperature=0\n",
    "    )\n",
    "    return response.choices[0].message['content']"
   ]
  },
  {
   "cell_type": "code",
   "execution_count": 4,
   "id": "01d3834d-3c62-4e1f-a721-98e22951d3fd",
   "metadata": {},
   "outputs": [
    {
     "data": {
      "text/plain": [
       "['The mochi is excellent!',\n",
       " 'Best soup dumplings I have ever eaten.',\n",
       " 'Not worth the 3 month wait for a reservation.',\n",
       " 'The colorful tablecloths made me smile!',\n",
       " 'The pasta was cold.']"
      ]
     },
     "execution_count": 4,
     "metadata": {},
     "output_type": "execute_result"
    }
   ],
   "source": [
    "all_reviews = [\n",
    "    'The mochi is excellent!',\n",
    "    'Best soup dumplings I have ever eaten.',\n",
    "    'Not worth the 3 month wait for a reservation.',\n",
    "    'The colorful tablecloths made me smile!',\n",
    "    'The pasta was cold.'\n",
    "]\n",
    "all_reviews"
   ]
  },
  {
   "cell_type": "code",
   "execution_count": null,
   "id": "54dfd6a5-cf5f-436e-82e6-d6e51b0e2fb9",
   "metadata": {},
   "outputs": [
    {
     "name": "stdout",
     "output_type": "stream",
     "text": [
      ".\n",
      ".\n"
     ]
    }
   ],
   "source": [
    "all_sentiments = []\n",
    "for review in all_reviews:\n",
    "    prompt = f'''\n",
    "        Classify the following review \n",
    "        as having either a positive or\n",
    "        negative sentiment. State your answer\n",
    "        as a single word, either \"positive\" or\n",
    "        \"negative\":\n",
    "\n",
    "        {review}\n",
    "        '''\n",
    "    response = llm_response(prompt)\n",
    "    all_sentiments.append(response)\n",
    "    time.sleep(21)\n",
    "    print(\".\")\n",
    "all_sentiments"
   ]
  },
  {
   "cell_type": "code",
   "execution_count": null,
   "id": "7cd09d81-c42a-453e-a26a-ec6876fed6ea",
   "metadata": {},
   "outputs": [],
   "source": []
  }
 ],
 "metadata": {
  "kernelspec": {
   "display_name": "Python 3 (ipykernel)",
   "language": "python",
   "name": "python3"
  },
  "language_info": {
   "codemirror_mode": {
    "name": "ipython",
    "version": 3
   },
   "file_extension": ".py",
   "mimetype": "text/x-python",
   "name": "python",
   "nbconvert_exporter": "python",
   "pygments_lexer": "ipython3",
   "version": "3.10.12"
  }
 },
 "nbformat": 4,
 "nbformat_minor": 5
}
