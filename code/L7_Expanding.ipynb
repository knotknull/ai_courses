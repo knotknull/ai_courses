{
 "cells": [
  {
   "cell_type": "code",
   "execution_count": 1,
   "id": "9f924a0c-7a82-44e1-9130-4e2789070ed1",
   "metadata": {},
   "outputs": [],
   "source": [
    "import openai\n",
    "import os\n",
    "import time\n",
    "from dotenv import load_dotenv, find_dotenv\n",
    "_ = load_dotenv(\"/home/map/archive/ai/ai_courses/code/.env\")\n",
    "\n",
    "openai.api_key = os.getenv('OPENAI_API_KEY')\n",
    "##print (os.getenv('OPENAI_API_KEY'))\n",
    "##print (openai.api_key)"
   ]
  },
  {
   "cell_type": "code",
   "execution_count": 2,
   "id": "8bfebf5b-3c9e-4af8-9d15-1d15a44e0190",
   "metadata": {},
   "outputs": [],
   "source": [
    "def get_completion(prompt, model=\"gpt-3.5-turbo\",temperature=0): # Andrew mentioned that the prompt/ completion paradigm is preferable for this class\n",
    "    messages = [{\"role\": \"user\", \"content\": prompt}]\n",
    "    response = openai.ChatCompletion.create(\n",
    "        model=model,\n",
    "        messages=messages,\n",
    "        temperature=temperature, # this is the degree of randomness of the model's output\n",
    "    )\n",
    "    return response.choices[0].message[\"content\"]"
   ]
  },
  {
   "cell_type": "code",
   "execution_count": 3,
   "id": "a2e93a58-ae94-4ee7-9b5c-3bc0aeaa1379",
   "metadata": {},
   "outputs": [],
   "source": [
    "# given the sentiment from the lesson on \"inferring\",\n",
    "# and the original customer message, customize the email\n",
    "sentiment = \"negative\"\n",
    "\n",
    "# review for a blender\n",
    "review = f\"\"\"\n",
    "So, they still had the 17 piece system on seasonal \\\n",
    "sale for around $49 in the month of November, about \\\n",
    "half off, but for some reason (call it price gouging) \\\n",
    "around the second week of December the prices all went \\\n",
    "up to about anywhere from between $70-$89 for the same \\\n",
    "system. And the 11 piece system went up around $10 or \\\n",
    "so in price also from the earlier sale price of $29. \\\n",
    "So it looks okay, but if you look at the base, the part \\\n",
    "where the blade locks into place doesn’t look as good \\\n",
    "as in previous editions from a few years ago, but I \\\n",
    "plan to be very gentle with it (example, I crush \\\n",
    "very hard items like beans, ice, rice, etc. in the \\ \n",
    "blender first then pulverize them in the serving size \\\n",
    "I want in the blender then switch to the whipping \\\n",
    "blade for a finer flour, and use the cross cutting blade \\\n",
    "first when making smoothies, then use the flat blade \\\n",
    "if I need them finer/less pulpy). Special tip when making \\\n",
    "smoothies, finely cut and freeze the fruits and \\\n",
    "vegetables (if using spinach-lightly stew soften the \\ \n",
    "spinach then freeze until ready for use-and if making \\\n",
    "sorbet, use a small to medium sized food processor) \\ \n",
    "that you plan to use that way you can avoid adding so \\\n",
    "much ice if at all-when making your smoothie. \\\n",
    "After about a year, the motor was making a funny noise. \\\n",
    "I called customer service but the warranty expired \\\n",
    "already, so I had to buy another one. FYI: The overall \\\n",
    "quality has gone done in these types of products, so \\\n",
    "they are kind of counting on brand recognition and \\\n",
    "consumer loyalty to maintain sales. Got it in about \\\n",
    "two days.\n",
    "\"\"\""
   ]
  },
  {
   "cell_type": "code",
   "execution_count": 6,
   "id": "6230ca0c-82ca-4b34-9593-3798abc58137",
   "metadata": {},
   "outputs": [
    {
     "name": "stdout",
     "output_type": "stream",
     "text": [
      "Dear Valued Customer,\n",
      "\n",
      "Thank you for taking the time to share your review with us. We appreciate your feedback and apologize for any inconvenience you may have experienced.\n",
      "\n",
      "We are sorry to hear about the price increase you noticed in December. We strive to provide competitive prices for our valued customers, and we understand your frustration. If you have any further concerns regarding pricing, we encourage you to reach out to our customer service team who will be happy to assist you.\n",
      "\n",
      "We also appreciate your feedback regarding the base of the system. We continuously work to improve the quality of our products, and your comments will be taken into consideration for future enhancements.\n",
      "\n",
      "We apologize for any inconvenience caused by the motor issue you encountered. Our customer service team is available to assist you with any product-related concerns, even if the warranty has expired. Please feel free to contact them for further assistance.\n",
      "\n",
      "Thank you once again for your review. We value your loyalty and appreciate your support. If you have any further questions or need any assistance, please do not hesitate to reach out to us.\n",
      "\n",
      "Best regards,\n",
      "\n",
      "AI customer agent\n"
     ]
    }
   ],
   "source": [
    "prompt = f\"\"\"\n",
    "You are a customer service AI assistant.\n",
    "Your task is to send an email reply to a valued customer.\n",
    "Given the customer email delimited by ```, \\\n",
    "Generate a reply to thank the customer for their review.\n",
    "If the sentiment is positive or neutral, thank them for \\\n",
    "their review.\n",
    "If the sentiment is negative, apologize and suggest that \\\n",
    "they can reach out to customer service. \n",
    "Make sure to use specific details from the review.\n",
    "Write in a concise and professional tone.\n",
    "Sign the email as `AI customer agent`.\n",
    "Customer review: ```{review}```\n",
    "Review sentiment: {sentiment}\n",
    "\"\"\"\n",
    "response = get_completion(prompt)\n",
    "print(response)\n",
    "no_temp=response"
   ]
  },
  {
   "cell_type": "code",
   "execution_count": 7,
   "id": "d5066691-a79c-476b-a099-c2fca5a917de",
   "metadata": {},
   "outputs": [
    {
     "name": "stdout",
     "output_type": "stream",
     "text": [
      "Dear Valued Customer,\n",
      "\n",
      "Thank you for taking the time to share your review with us. We appreciate your feedback and are sorry to hear about your experience with the pricing changes and the decrease in quality of our product.\n",
      "\n",
      "We apologize for any inconvenience caused by the increase in prices during the second week of December. Our aim is to provide fair and competitive pricing to all our customers, and we are sorry if this was not reflected during your purchase.\n",
      "\n",
      "Regarding the issue with the motor making a funny noise, we apologize for the inconvenience. We understand the frustration of having to purchase a new one, especially when the warranty has expired. We value your loyalty and will take your feedback into consideration as we strive to improve our products.\n",
      "\n",
      "If you have any further concerns or questions, please do not hesitate to reach out to our customer service team. They will be more than happy to assist you further.\n",
      "\n",
      "Thank you again for your review and for choosing our brand. We appreciate your support.\n",
      "\n",
      "Best regards,\n",
      "\n",
      "AI customer agent\n"
     ]
    }
   ],
   "source": [
    "prompt = f\"\"\"\n",
    "You are a customer service AI assistant.\n",
    "Your task is to send an email reply to a valued customer.\n",
    "Given the customer email delimited by ```, \\\n",
    "Generate a reply to thank the customer for their review.\n",
    "If the sentiment is positive or neutral, thank them for \\\n",
    "their review.\n",
    "If the sentiment is negative, apologize and suggest that \\\n",
    "they can reach out to customer service. \n",
    "Make sure to use specific details from the review.\n",
    "Write in a concise and professional tone.\n",
    "Sign the email as `AI customer agent`.\n",
    "Customer review: ```{review}```\n",
    "Review sentiment: {sentiment}\n",
    "\"\"\"\n",
    "response = get_completion(prompt, temperature=0.7)\n",
    "print(response)\n",
    "temp=response"
   ]
  },
  {
   "cell_type": "code",
   "execution_count": 9,
   "id": "69a8cd79-57c9-48b4-8113-ad29b557f8bb",
   "metadata": {},
   "outputs": [
    {
     "data": {
      "text/markdown": [
       "Dear Valued Customer, \n",
       "\n",
       "Thank you for taking the time to share your review with us. We appreciate your feedback and <span style='color:red;font-weight:700;text-decoration:line-through;'>apologize for any inconvenience you may have experienced. ¶ We </span>are sorry to hear about <span style='color:green;font-weight:700;'>your experience with </span>the <span style='color:red;font-weight:700;text-decoration:line-through;'>price increase you noticed </span><span style='color:green;font-weight:700;'>pricing changes and the decrease </span>in <span style='color:red;font-weight:700;text-decoration:line-through;'>December. We strive to provide competitive prices for our valued customers, and we understand your frustration. If you have any further concerns regarding pricing, we encourage you to reach out to our customer service team who will be happy to assist you. ¶ We also appreciate your feedback regarding the base of the system. We continuously work to improve the </span>quality of our <span style='color:red;font-weight:700;text-decoration:line-through;'>products, and your comments will be taken into consideration for future enhancements. </span><span style='color:green;font-weight:700;'>product. </span>\n",
       "\n",
       "We apologize for any inconvenience caused by the <span style='color:green;font-weight:700;'>increase in prices during the second week of December. Our aim is to provide fair and competitive pricing to all our customers, and we are sorry if this was not reflected during your purchase. </span>\n",
       "\n",
       "<span style='color:green;font-weight:700;'>Regarding the issue with the </span>motor <span style='color:red;font-weight:700;text-decoration:line-through;'>issue you encountered. Our customer service team is available </span><span style='color:green;font-weight:700;'>making a funny noise, we apologize for the inconvenience. We understand the frustration of having </span>to <span style='color:red;font-weight:700;text-decoration:line-through;'>assist you with any product-related concerns, even if </span><span style='color:green;font-weight:700;'>purchase a new one, especially when </span>the warranty has expired. <span style='color:red;font-weight:700;text-decoration:line-through;'>Please feel free to contact them for further assistance. ¶ Thank you once again for your review. </span>We value your loyalty and <span style='color:red;font-weight:700;text-decoration:line-through;'>appreciate </span><span style='color:green;font-weight:700;'>will take </span>your <span style='color:red;font-weight:700;text-decoration:line-through;'>support. </span><span style='color:green;font-weight:700;'>feedback into consideration as we strive to improve our products. </span>\n",
       "\n",
       "<span style='color:green;font-weight:700;'></span>If you have any further <span style='color:red;font-weight:700;text-decoration:line-through;'>questions </span><span style='color:green;font-weight:700;'>concerns </span>or <span style='color:red;font-weight:700;text-decoration:line-through;'>need any assistance, </span><span style='color:green;font-weight:700;'>questions, </span>please do not hesitate to reach out to <span style='color:red;font-weight:700;text-decoration:line-through;'>us. </span><span style='color:green;font-weight:700;'>our customer service team. They will be more than happy to assist you further. </span>\n",
       "\n",
       "<span style='color:green;font-weight:700;'>Thank you again for your review and for choosing our brand. We appreciate your support. </span>\n",
       "\n",
       "Best regards, \n",
       "\n",
       "AI customer agent"
      ],
      "text/plain": [
       "<IPython.core.display.Markdown object>"
      ]
     },
     "metadata": {},
     "output_type": "display_data"
    }
   ],
   "source": [
    "from redlines import Redlines\n",
    "from IPython.display import display, Markdown, Latex, HTML, JSON\n",
    "\n",
    "\n",
    "diff = Redlines(no_temp, temp)\n",
    "display(Markdown(diff.output_markdown))"
   ]
  },
  {
   "cell_type": "code",
   "execution_count": null,
   "id": "c5c980d4-5075-468d-8a08-35505207399b",
   "metadata": {},
   "outputs": [],
   "source": []
  }
 ],
 "metadata": {
  "kernelspec": {
   "display_name": "Python 3 (ipykernel)",
   "language": "python",
   "name": "python3"
  },
  "language_info": {
   "codemirror_mode": {
    "name": "ipython",
    "version": 3
   },
   "file_extension": ".py",
   "mimetype": "text/x-python",
   "name": "python",
   "nbconvert_exporter": "python",
   "pygments_lexer": "ipython3",
   "version": "3.10.12"
  }
 },
 "nbformat": 4,
 "nbformat_minor": 5
}
