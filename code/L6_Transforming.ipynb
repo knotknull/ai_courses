{
 "cells": [
  {
   "cell_type": "code",
   "execution_count": 10,
   "id": "9f924a0c-7a82-44e1-9130-4e2789070ed1",
   "metadata": {},
   "outputs": [],
   "source": [
    "import openai\n",
    "import os\n",
    "import time\n",
    "from dotenv import load_dotenv, find_dotenv\n",
    "_ = load_dotenv(\"/home/map/archive/ai/ai_courses/code/.env\")\n",
    "\n",
    "openai.api_key = os.getenv('OPENAI_API_KEY')\n",
    "##print (os.getenv('OPENAI_API_KEY'))\n",
    "##print (openai.api_key)"
   ]
  },
  {
   "cell_type": "code",
   "execution_count": 2,
   "id": "8bfebf5b-3c9e-4af8-9d15-1d15a44e0190",
   "metadata": {},
   "outputs": [],
   "source": [
    "def get_completion(prompt, model=\"gpt-3.5-turbo\"):\n",
    "    messages = [{\"role\": \"user\", \"content\": prompt}]\n",
    "    response = openai.ChatCompletion.create(\n",
    "        model=model,\n",
    "        messages=messages,\n",
    "        temperature=0, # this is the degree of randomness of the model's output\n",
    "    )\n",
    "    return response.choices[0].message[\"content\"]"
   ]
  },
  {
   "cell_type": "code",
   "execution_count": 3,
   "id": "f4d9b9a2-4f81-4780-be05-0c52d2f4c033",
   "metadata": {},
   "outputs": [
    {
     "name": "stdout",
     "output_type": "stream",
     "text": [
      "Hola, me gustaría ordenar una licuadora.\n"
     ]
    }
   ],
   "source": [
    "prompt = f\"\"\"\n",
    "Translate the following English text to Spanish: \\ \n",
    "```Hi, I would like to order a blender```\n",
    "\"\"\"\n",
    "response = get_completion(prompt)\n",
    "print(response)"
   ]
  },
  {
   "cell_type": "code",
   "execution_count": 4,
   "id": "22b61eaa-01f9-470e-9ff2-6c5582b65588",
   "metadata": {},
   "outputs": [
    {
     "name": "stdout",
     "output_type": "stream",
     "text": [
      "This language is French.\n"
     ]
    }
   ],
   "source": [
    "prompt = f\"\"\"\n",
    "Tell me which language this is: \n",
    "```Combien coûte le lampadaire?```\n",
    "\"\"\"\n",
    "response = get_completion(prompt)\n",
    "print(response)\n"
   ]
  },
  {
   "cell_type": "code",
   "execution_count": 6,
   "id": "91c78120-ac06-41e7-87d6-84f4bd44a8a0",
   "metadata": {},
   "outputs": [
    {
     "name": "stdout",
     "output_type": "stream",
     "text": [
      "French: ```Je veux commander un ballon de basket```\n",
      "Spanish: ```Quiero ordenar una pelota de baloncesto```\n",
      "Pirate English: ```I be wantin' to order a basketball```\n"
     ]
    }
   ],
   "source": [
    "prompt = f\"\"\"\n",
    "Translate the following  text to French and Spanish\n",
    "and Pirate English: \\\n",
    "```I want to order a basketball```\n",
    "\"\"\"\n",
    "response = get_completion(prompt)\n",
    "print(response)"
   ]
  },
  {
   "cell_type": "code",
   "execution_count": 7,
   "id": "978327f9-bf3c-45c4-9334-914bdc7b2a35",
   "metadata": {},
   "outputs": [
    {
     "name": "stdout",
     "output_type": "stream",
     "text": [
      "Formal: ¿Le gustaría ordenar una almohada?\n",
      "Informal: ¿Te gustaría ordenar una almohada?\n"
     ]
    }
   ],
   "source": [
    "prompt = f\"\"\"\n",
    "Translate the following text to Spanish in both the \\\n",
    "formal and informal forms: \n",
    "'Would you like to order a pillow?'\n",
    "\"\"\"\n",
    "response = get_completion(prompt)\n",
    "print(response)"
   ]
  },
  {
   "cell_type": "code",
   "execution_count": 8,
   "id": "00b5ff12-5ace-4fd6-b324-a41ecaee9a0c",
   "metadata": {},
   "outputs": [],
   "source": [
    "user_messages = [\n",
    "  \"La performance du système est plus lente que d'habitude.\",  # System performance is slower than normal         \n",
    "  \"Mi monitor tiene píxeles que no se iluminan.\",              # My monitor has pixels that are not lighting\n",
    "  \"Il mio mouse non funziona\",                                 # My mouse is not working\n",
    "  \"Mój klawisz Ctrl jest zepsuty\",                             # My keyboard has a broken control key\n",
    "  \"我的屏幕在闪烁\"                                               # My screen is flashing\n",
    "] "
   ]
  },
  {
   "cell_type": "code",
   "execution_count": 13,
   "id": "abc2d599-3e1c-4b3f-a95d-aacd7b0c0aed",
   "metadata": {},
   "outputs": [
    {
     "name": "stdout",
     "output_type": "stream",
     "text": [
      "Original message (The language is French.): La performance du système est plus lente que d'habitude.\n",
      "sleeping 24 ...\n",
      "The performance of the system is slower than usual.\n",
      "\n",
      "시스템의 성능이 평소보다 느립니다. \n",
      "\n",
      "Original message (The language is Spanish.): Mi monitor tiene píxeles que no se iluminan.\n",
      "sleeping 24 ...\n",
      "English: \"My monitor has pixels that do not light up.\"\n",
      "\n",
      "Korean: \"내 모니터에는 밝아지지 않는 픽셀이 있습니다.\" \n",
      "\n",
      "Original message (The language is Italian.): Il mio mouse non funziona\n",
      "sleeping 24 ...\n",
      "English: \"My mouse is not working.\"\n",
      "Korean: \"내 마우스가 작동하지 않습니다.\" \n",
      "\n",
      "Original message (The language is Polish.): Mój klawisz Ctrl jest zepsuty\n",
      "sleeping 24 ...\n",
      "English: \"My Ctrl key is broken\"\n",
      "Korean: \"내 Ctrl 키가 고장 났어요\" \n",
      "\n",
      "Original message (The language is Chinese.): 我的屏幕在闪烁\n",
      "sleeping 24 ...\n",
      "English: My screen is flickering.\n",
      "Korean: 내 화면이 깜박거립니다. \n",
      "\n"
     ]
    }
   ],
   "source": [
    "for issue in user_messages:\n",
    "    prompt = f\"Tell me what language this is: ```{issue}```\"\n",
    "    lang = get_completion(prompt)\n",
    "    print(f\"Original message ({lang}): {issue}\")\n",
    "    print(\"sleeping 24 ...\")\n",
    "    time.sleep(31)\n",
    "          \n",
    "    prompt = f\"\"\"\n",
    "    Translate the following  text to English \\\n",
    "    and Korean: ```{issue}```\n",
    "    \"\"\"\n",
    "    response = get_completion(prompt)\n",
    "    print(response, \"\\n\")"
   ]
  },
  {
   "cell_type": "code",
   "execution_count": 14,
   "id": "6a147c84-7963-44ea-a63f-d6e268b0f2a4",
   "metadata": {},
   "outputs": [
    {
     "name": "stdout",
     "output_type": "stream",
     "text": [
      "Dear Sir/Madam,\n",
      "\n",
      "I hope this letter finds you well. My name is Joe, and I am writing to bring your attention to a specification document regarding a standing lamp. \n",
      "\n",
      "I kindly request that you take a moment to review the attached spec, as it contains important details about the standing lamp in question. \n",
      "\n",
      "Thank you for your time and consideration. I look forward to hearing from you soon.\n",
      "\n",
      "Sincerely,\n",
      "Joe\n"
     ]
    }
   ],
   "source": [
    "prompt = f\"\"\"\n",
    "Translate the following from slang to a business letter: \n",
    "'Dude, This is Joe, check out this spec on this standing lamp.'\n",
    "\"\"\"\n",
    "response = get_completion(prompt)\n",
    "print(response)"
   ]
  },
  {
   "cell_type": "code",
   "execution_count": 15,
   "id": "c47f96d2-bf02-4978-9257-d9c04bff3543",
   "metadata": {},
   "outputs": [
    {
     "name": "stdout",
     "output_type": "stream",
     "text": [
      "<!DOCTYPE html>\n",
      "<html>\n",
      "<head>\n",
      "<style>\n",
      "table {\n",
      "  font-family: arial, sans-serif;\n",
      "  border-collapse: collapse;\n",
      "  width: 100%;\n",
      "}\n",
      "\n",
      "td, th {\n",
      "  border: 1px solid #dddddd;\n",
      "  text-align: left;\n",
      "  padding: 8px;\n",
      "}\n",
      "\n",
      "tr:nth-child(even) {\n",
      "  background-color: #dddddd;\n",
      "}\n",
      "</style>\n",
      "</head>\n",
      "<body>\n",
      "\n",
      "<h2>Restaurant Employees</h2>\n",
      "\n",
      "<table>\n",
      "  <tr>\n",
      "    <th>Name</th>\n",
      "    <th>Email</th>\n",
      "  </tr>\n",
      "  <tr>\n",
      "    <td>Shyam</td>\n",
      "    <td>shyamjaiswal@gmail.com</td>\n",
      "  </tr>\n",
      "  <tr>\n",
      "    <td>Bob</td>\n",
      "    <td>bob32@gmail.com</td>\n",
      "  </tr>\n",
      "  <tr>\n",
      "    <td>Jai</td>\n",
      "    <td>jai87@gmail.com</td>\n",
      "  </tr>\n",
      "</table>\n",
      "\n",
      "</body>\n",
      "</html>\n"
     ]
    }
   ],
   "source": [
    "data_json = { \"resturant employees\" :[ \n",
    "    {\"name\":\"Shyam\", \"email\":\"shyamjaiswal@gmail.com\"},\n",
    "    {\"name\":\"Bob\", \"email\":\"bob32@gmail.com\"},\n",
    "    {\"name\":\"Jai\", \"email\":\"jai87@gmail.com\"}\n",
    "]}\n",
    "\n",
    "prompt = f\"\"\"\n",
    "Translate the following python dictionary from JSON to an HTML \\\n",
    "table with column headers and title: {data_json}\n",
    "\"\"\"\n",
    "response = get_completion(prompt)\n",
    "print(response)"
   ]
  },
  {
   "cell_type": "code",
   "execution_count": 16,
   "id": "8b28ca28-4273-44ef-9a71-c692d0cb999a",
   "metadata": {},
   "outputs": [
    {
     "data": {
      "text/html": [
       "<!DOCTYPE html>\n",
       "<html>\n",
       "<head>\n",
       "<style>\n",
       "table {\n",
       "  font-family: arial, sans-serif;\n",
       "  border-collapse: collapse;\n",
       "  width: 100%;\n",
       "}\n",
       "\n",
       "td, th {\n",
       "  border: 1px solid #dddddd;\n",
       "  text-align: left;\n",
       "  padding: 8px;\n",
       "}\n",
       "\n",
       "tr:nth-child(even) {\n",
       "  background-color: #dddddd;\n",
       "}\n",
       "</style>\n",
       "</head>\n",
       "<body>\n",
       "\n",
       "<h2>Restaurant Employees</h2>\n",
       "\n",
       "<table>\n",
       "  <tr>\n",
       "    <th>Name</th>\n",
       "    <th>Email</th>\n",
       "  </tr>\n",
       "  <tr>\n",
       "    <td>Shyam</td>\n",
       "    <td>shyamjaiswal@gmail.com</td>\n",
       "  </tr>\n",
       "  <tr>\n",
       "    <td>Bob</td>\n",
       "    <td>bob32@gmail.com</td>\n",
       "  </tr>\n",
       "  <tr>\n",
       "    <td>Jai</td>\n",
       "    <td>jai87@gmail.com</td>\n",
       "  </tr>\n",
       "</table>\n",
       "\n",
       "</body>\n",
       "</html>"
      ],
      "text/plain": [
       "<IPython.core.display.HTML object>"
      ]
     },
     "metadata": {},
     "output_type": "display_data"
    }
   ],
   "source": [
    "from IPython.display import display, Markdown, Latex, HTML, JSON\n",
    "display(HTML(response))"
   ]
  },
  {
   "cell_type": "code",
   "execution_count": 18,
   "id": "4a2f5b0b-5a22-40fb-8e2c-f0393979c677",
   "metadata": {},
   "outputs": [
    {
     "name": "stdout",
     "output_type": "stream",
     "text": [
      "{\n",
      "  \"messages\": [\n",
      "    {\n",
      "      \"msg\": \"La performance du système est plus lente que d'habitude.\",\n",
      "      \"lang\": \"fr\",\n",
      "      \"eng\": \"The system performance is slower than usual.\",\n",
      "      \"kor\": \"시스템 성능이 평소보다 느립니다.\"\n",
      "    },\n",
      "    {\n",
      "      \"msg\": \"Mi monitor tiene píxeles que no se iluminan.\",\n",
      "      \"lang\": \"es\",\n",
      "      \"eng\": \"My monitor has pixels that don't light up.\",\n",
      "      \"kor\": \"내 모니터에는 화소가 켜지지 않는 것이 있습니다.\"\n",
      "    },\n",
      "    {\n",
      "      \"msg\": \"Il mio mouse non funziona\",\n",
      "      \"lang\": \"it\",\n",
      "      \"eng\": \"My mouse is not working.\",\n",
      "      \"kor\": \"내 마우스가 작동하지 않습니다.\"\n",
      "    },\n",
      "    {\n",
      "      \"msg\": \"Mój klawisz Ctrl jest zepsuty\",\n",
      "      \"lang\": \"pl\",\n",
      "      \"eng\": \"My Ctrl key is broken.\",\n",
      "      \"kor\": \"내 Ctrl 키가 고장 났습니다.\"\n",
      "    },\n",
      "    {\n",
      "      \"msg\": \"我的屏幕在闪烁\",\n",
      "      \"lang\": \"zh\",\n",
      "      \"eng\": \"My screen is flickering.\",\n",
      "      \"kor\": \"내 화면이 깜박입니다.\"\n",
      "    }\n",
      "  ]\n",
      "} \n",
      "\n"
     ]
    }
   ],
   "source": [
    "user_messages = [\n",
    "  \"La performance du système est plus lente que d'habitude.\",  # System performance is slower than normal         \n",
    "  \"Mi monitor tiene píxeles que no se iluminan.\",              # My monitor has pixels that are not lighting\n",
    "  \"Il mio mouse non funziona\",                                 # My mouse is not working\n",
    "  \"Mój klawisz Ctrl jest zepsuty\",                             # My keyboard has a broken control key\n",
    "  \"我的屏幕在闪烁\"                                               # My screen is flashing\n",
    "] \n",
    "prompt = f\"\"\"\n",
    "Take the list of user messages delimited by three back ticks and create a JSON object as follows:\n",
    "for each message populate a field named msg with the original message,\n",
    "  populate a field called lang with the language of the message,\n",
    "  populate a field called eng with the translation of message to english,\n",
    "  populate a field call kor with the translation of message to korean, \n",
    "```  {user_messages}```\n",
    "\"\"\"\n",
    "response = get_completion(prompt)\n",
    "print(response, \"\\n\")"
   ]
  },
  {
   "cell_type": "code",
   "execution_count": 21,
   "id": "a6ef53cf-a37b-48d7-b9a3-4ff8b0b1127b",
   "metadata": {},
   "outputs": [
    {
     "name": "stdout",
     "output_type": "stream",
     "text": [
      "<!DOCTYPE html>\n",
      "<html>\n",
      "<head>\n",
      "<style>\n",
      "table {\n",
      "  font-family: arial, sans-serif;\n",
      "  border-collapse: collapse;\n",
      "  width: 100%;\n",
      "}\n",
      "\n",
      "td, th {\n",
      "  border: 1px solid #dddddd;\n",
      "  text-align: left;\n",
      "  padding: 8px;\n",
      "}\n",
      "\n",
      "th {\n",
      "  background-color: #dddddd;\n",
      "}\n",
      "</style>\n",
      "</head>\n",
      "<body>\n",
      "\n",
      "<h2>Messages</h2>\n",
      "\n",
      "<table>\n",
      "  <tr>\n",
      "    <th>Message</th>\n",
      "    <th>Language</th>\n",
      "    <th>English Translation</th>\n",
      "    <th>Korean Translation</th>\n",
      "  </tr>\n",
      "  <tr>\n",
      "    <td>La performance du système est plus lente que d'habitude.</td>\n",
      "    <td>fr</td>\n",
      "    <td>The system performance is slower than usual.</td>\n",
      "    <td>시스템 성능이 평소보다 느립니다.</td>\n",
      "  </tr>\n",
      "  <tr>\n",
      "    <td>Mi monitor tiene píxeles que no se iluminan.</td>\n",
      "    <td>es</td>\n",
      "    <td>My monitor has pixels that don't light up.</td>\n",
      "    <td>내 모니터에는 화소가 켜지지 않는 것이 있습니다.</td>\n",
      "  </tr>\n",
      "  <tr>\n",
      "    <td>Il mio mouse non funziona</td>\n",
      "    <td>it</td>\n",
      "    <td>My mouse is not working.</td>\n",
      "    <td>내 마우스가 작동하지 않습니다.</td>\n",
      "  </tr>\n",
      "  <tr>\n",
      "    <td>Mój klawisz Ctrl jest zepsuty</td>\n",
      "    <td>pl</td>\n",
      "    <td>My Ctrl key is broken.</td>\n",
      "    <td>내 Ctrl 키가 고장 났습니다.</td>\n",
      "  </tr>\n",
      "  <tr>\n",
      "    <td>我的屏幕在闪烁</td>\n",
      "    <td>zh</td>\n",
      "    <td>My screen is flickering.</td>\n",
      "    <td>내 화면이 깜박입니다.</td>\n",
      "  </tr>\n",
      "</table>\n",
      "\n",
      "</body>\n",
      "</html>\n"
     ]
    }
   ],
   "source": [
    "data_json = {\n",
    "  \"messages\": [\n",
    "    { \"msg\": \"La performance du système est plus lente que d'habitude.\", \"lang\": \"fr\", \"eng\": \"The system performance is slower than usual.\",\n",
    "      \"kor\": \"시스템 성능이 평소보다 느립니다.\" },\n",
    "    { \"msg\": \"Mi monitor tiene píxeles que no se iluminan.\",\"lang\": \"es\",\"eng\": \"My monitor has pixels that don't light up.\", \n",
    "      \"kor\": \"내 모니터에는 화소가 켜지지 않는 것이 있습니다.\" },\n",
    "    { \"msg\": \"Il mio mouse non funziona\", \"lang\": \"it\", \"eng\": \"My mouse is not working.\", \"kor\": \"내 마우스가 작동하지 않습니다.\" },\n",
    "    { \"msg\": \"Mój klawisz Ctrl jest zepsuty\", \"lang\": \"pl\",  \"eng\": \"My Ctrl key is broken.\",  \"kor\": \"내 Ctrl 키가 고장 났습니다.\"  },\n",
    "    { \"msg\": \"我的屏幕在闪烁\",  \"lang\": \"zh\", \"eng\": \"My screen is flickering.\", \"kor\": \"내 화면이 깜박입니다.\"} \n",
    "  ]}\n",
    "prompt = f\"\"\"\n",
    "Translate the following python dictionary from JSON to an HTML \\\n",
    "table with column headers and title: {data_json}\"\n",
    "\"\"\"\n",
    "response = get_completion(prompt)\n",
    "print (response)"
   ]
  },
  {
   "cell_type": "code",
   "execution_count": 22,
   "id": "587231fc-933c-4efa-8775-79c4d18c6b25",
   "metadata": {},
   "outputs": [
    {
     "data": {
      "text/html": [
       "<!DOCTYPE html>\n",
       "<html>\n",
       "<head>\n",
       "<style>\n",
       "table {\n",
       "  font-family: arial, sans-serif;\n",
       "  border-collapse: collapse;\n",
       "  width: 100%;\n",
       "}\n",
       "\n",
       "td, th {\n",
       "  border: 1px solid #dddddd;\n",
       "  text-align: left;\n",
       "  padding: 8px;\n",
       "}\n",
       "\n",
       "th {\n",
       "  background-color: #dddddd;\n",
       "}\n",
       "</style>\n",
       "</head>\n",
       "<body>\n",
       "\n",
       "<h2>Messages</h2>\n",
       "\n",
       "<table>\n",
       "  <tr>\n",
       "    <th>Message</th>\n",
       "    <th>Language</th>\n",
       "    <th>English Translation</th>\n",
       "    <th>Korean Translation</th>\n",
       "  </tr>\n",
       "  <tr>\n",
       "    <td>La performance du système est plus lente que d'habitude.</td>\n",
       "    <td>fr</td>\n",
       "    <td>The system performance is slower than usual.</td>\n",
       "    <td>시스템 성능이 평소보다 느립니다.</td>\n",
       "  </tr>\n",
       "  <tr>\n",
       "    <td>Mi monitor tiene píxeles que no se iluminan.</td>\n",
       "    <td>es</td>\n",
       "    <td>My monitor has pixels that don't light up.</td>\n",
       "    <td>내 모니터에는 화소가 켜지지 않는 것이 있습니다.</td>\n",
       "  </tr>\n",
       "  <tr>\n",
       "    <td>Il mio mouse non funziona</td>\n",
       "    <td>it</td>\n",
       "    <td>My mouse is not working.</td>\n",
       "    <td>내 마우스가 작동하지 않습니다.</td>\n",
       "  </tr>\n",
       "  <tr>\n",
       "    <td>Mój klawisz Ctrl jest zepsuty</td>\n",
       "    <td>pl</td>\n",
       "    <td>My Ctrl key is broken.</td>\n",
       "    <td>내 Ctrl 키가 고장 났습니다.</td>\n",
       "  </tr>\n",
       "  <tr>\n",
       "    <td>我的屏幕在闪烁</td>\n",
       "    <td>zh</td>\n",
       "    <td>My screen is flickering.</td>\n",
       "    <td>내 화면이 깜박입니다.</td>\n",
       "  </tr>\n",
       "</table>\n",
       "\n",
       "</body>\n",
       "</html>"
      ],
      "text/plain": [
       "<IPython.core.display.HTML object>"
      ]
     },
     "metadata": {},
     "output_type": "display_data"
    }
   ],
   "source": [
    "from IPython.display import display, Markdown, Latex, HTML, JSON\n",
    "display(HTML(response))"
   ]
  },
  {
   "cell_type": "code",
   "execution_count": 28,
   "id": "c5a017b5-937b-4fbf-bc2c-fee294002bbb",
   "metadata": {},
   "outputs": [
    {
     "name": "stdout",
     "output_type": "stream",
     "text": [
      "['The girl with the black and white puppies has a ball.', 'Yolanda has her notebook.', 'It's going to be a long day. Does the car need its oil changed?', 'There goes my freedom. They're going to bring their suitcases.', 'You're going to need your notebook.', 'That medicine affects my ability to sleep. Have you heard of the butterfly effect?', 'This phrase is to check chatGPT for spelling ability.'] \n",
      "\n"
     ]
    }
   ],
   "source": [
    "text = [ \n",
    "  \"The girl with the black and white puppies have a ball.\",  # The girl has a ball.\n",
    "  \"Yolanda has her notebook.\", # ok\n",
    "  \"Its going to be a long day. Does the car need it’s oil changed?\",  # Homonyms\n",
    "  \"Their goes my freedom. There going to bring they’re suitcases.\",  # Homonyms\n",
    "  \"Your going to need you’re notebook.\",  # Homonyms\n",
    "  \"That medicine effects my ability to sleep. Have you heard of the butterfly affect?\", # Homonyms\n",
    "  \"This phrase is to cherck chatGPT for speling abilitty\"  # spelling\n",
    "]\n",
    "prompt = f\"\"\"\n",
    "Take the list of  messages delimited by three back ticks and proofread and rewrite the corrected text.\n",
    "Don't use any punctionation around the text:\n",
    "```  {text}```\n",
    "\"\"\"\n",
    "response = get_completion(prompt)\n",
    "print(response, \"\\n\")\n"
   ]
  },
  {
   "cell_type": "code",
   "execution_count": 29,
   "id": "16a2c7a1-dcb3-4103-8a56-14c1e34fb74d",
   "metadata": {},
   "outputs": [
    {
     "name": "stdout",
     "output_type": "stream",
     "text": [
      "Got this for my daughter for her birthday because she keeps taking mine from my room. Yes, adults also like pandas too. She takes it everywhere with her, and it's super soft and cute. However, one of the ears is a bit lower than the other, and I don't think that was designed to be asymmetrical. Additionally, it's a bit small for what I paid for it. I believe there might be other options that are bigger for the same price. On the positive side, it arrived a day earlier than expected, so I got to play with it myself before I gave it to my daughter.\n"
     ]
    }
   ],
   "source": [
    "text = f\"\"\"\n",
    "Got this for my daughter for her birthday cuz she keeps taking \\\n",
    "mine from my room.  Yes, adults also like pandas too.  She takes \\\n",
    "it everywhere with her, and it's super soft and cute.  One of the \\\n",
    "ears is a bit lower than the other, and I don't think that was \\\n",
    "designed to be asymmetrical. It's a bit small for what I paid for it \\\n",
    "though. I think there might be other options that are bigger for \\\n",
    "the same price.  It arrived a day earlier than expected, so I got \\\n",
    "to play with it myself before I gave it to my daughter.\n",
    "\"\"\"\n",
    "prompt = f\"proofread and correct this review: ```{text}```\"\n",
    "response = get_completion(prompt)\n",
    "print(response)"
   ]
  },
  {
   "cell_type": "code",
   "execution_count": 31,
   "id": "bbc5d13c-7514-43c4-96d4-f8d4f87b2fba",
   "metadata": {},
   "outputs": [
    {
     "data": {
      "text/markdown": [
       "Got this for my daughter for her birthday <span style='color:red;font-weight:700;text-decoration:line-through;'>cuz </span><span style='color:green;font-weight:700;'>because </span>she keeps taking mine from my <span style='color:red;font-weight:700;text-decoration:line-through;'>room.  </span><span style='color:green;font-weight:700;'>room. </span>Yes, adults also like pandas <span style='color:red;font-weight:700;text-decoration:line-through;'>too.  </span><span style='color:green;font-weight:700;'>too. </span>She takes it everywhere with her, and it's super soft and <span style='color:red;font-weight:700;text-decoration:line-through;'>cute.  One </span><span style='color:green;font-weight:700;'>cute. However, one </span>of the ears is a bit lower than the other, and I don't think that was designed to be asymmetrical. <span style='color:red;font-weight:700;text-decoration:line-through;'>It's </span><span style='color:green;font-weight:700;'>Additionally, it's </span>a bit small for what I paid for <span style='color:red;font-weight:700;text-decoration:line-through;'>it though. </span><span style='color:green;font-weight:700;'>it. </span>I <span style='color:red;font-weight:700;text-decoration:line-through;'>think </span><span style='color:green;font-weight:700;'>believe </span>there might be other options that are bigger for the same <span style='color:red;font-weight:700;text-decoration:line-through;'>price.  It </span><span style='color:green;font-weight:700;'>price. On the positive side, it </span>arrived a day earlier than expected, so I got to play with it myself before I gave it to my daughter."
      ],
      "text/plain": [
       "<IPython.core.display.Markdown object>"
      ]
     },
     "metadata": {},
     "output_type": "display_data"
    }
   ],
   "source": [
    "from redlines import Redlines\n",
    "\n",
    "diff = Redlines(text,response)\n",
    "display(Markdown(diff.output_markdown))"
   ]
  },
  {
   "cell_type": "code",
   "execution_count": null,
   "id": "cd6b02c5-f3d5-4222-8278-0ac622bb17bd",
   "metadata": {},
   "outputs": [],
   "source": []
  }
 ],
 "metadata": {
  "kernelspec": {
   "display_name": "Python 3 (ipykernel)",
   "language": "python",
   "name": "python3"
  },
  "language_info": {
   "codemirror_mode": {
    "name": "ipython",
    "version": 3
   },
   "file_extension": ".py",
   "mimetype": "text/x-python",
   "name": "python",
   "nbconvert_exporter": "python",
   "pygments_lexer": "ipython3",
   "version": "3.10.12"
  }
 },
 "nbformat": 4,
 "nbformat_minor": 5
}
